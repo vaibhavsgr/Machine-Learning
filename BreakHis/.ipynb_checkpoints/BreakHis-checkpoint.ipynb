{
 "cells": [
  {
   "cell_type": "code",
   "execution_count": 2,
   "metadata": {},
   "outputs": [
    {
     "name": "stdout",
     "output_type": "stream",
     "text": [
      "Sun Apr 10 10:19:53 2022       \n",
      "+-----------------------------------------------------------------------------+\n",
      "| NVIDIA-SMI 471.11       Driver Version: 471.11       CUDA Version: 11.4     |\n",
      "|-------------------------------+----------------------+----------------------+\n",
      "| GPU  Name            TCC/WDDM | Bus-Id        Disp.A | Volatile Uncorr. ECC |\n",
      "| Fan  Temp  Perf  Pwr:Usage/Cap|         Memory-Usage | GPU-Util  Compute M. |\n",
      "|                               |                      |               MIG M. |\n",
      "|===============================+======================+======================|\n",
      "|   0  NVIDIA GeForce ... WDDM  | 00000000:01:00.0  On |                  N/A |\n",
      "| N/A   77C    P8    11W /  N/A |    563MiB /  6144MiB |     12%      Default |\n",
      "|                               |                      |                  N/A |\n",
      "+-------------------------------+----------------------+----------------------+\n",
      "                                                                               \n",
      "+-----------------------------------------------------------------------------+\n",
      "| Processes:                                                                  |\n",
      "|  GPU   GI   CI        PID   Type   Process name                  GPU Memory |\n",
      "|        ID   ID                                                   Usage      |\n",
      "|=============================================================================|\n",
      "|    0   N/A  N/A      3012    C+G   ...5n1h2txyewy\\SearchApp.exe    N/A      |\n",
      "|    0   N/A  N/A      3780    C+G   ...bbwe\\Microsoft.Photos.exe    N/A      |\n",
      "|    0   N/A  N/A      9952    C+G   ...artMenuExperienceHost.exe    N/A      |\n",
      "|    0   N/A  N/A     10400    C+G   ...rvice\\ePowerButton_NB.exe    N/A      |\n",
      "|    0   N/A  N/A     12500    C+G   ...4__8j3eq9eme6ctt\\IGCC.exe    N/A      |\n",
      "|    0   N/A  N/A     15264    C+G   ...ram Files\\LGHUB\\lghub.exe    N/A      |\n",
      "|    0   N/A  N/A     16504    C+G   ...8bbwe\\Microsoft.Notes.exe    N/A      |\n",
      "|    0   N/A  N/A     20264    C+G   ...me\\Application\\chrome.exe    N/A      |\n",
      "|    0   N/A  N/A     20348    C+G   ...erver\\YourPhoneServer.exe    N/A      |\n",
      "|    0   N/A  N/A     20684    C+G   ...perience\\NVIDIA Share.exe    N/A      |\n",
      "|    0   N/A  N/A     20696    C+G   ...2txyewy\\TextInputHost.exe    N/A      |\n",
      "|    0   N/A  N/A     21420    C+G   ...y\\ShellExperienceHost.exe    N/A      |\n",
      "|    0   N/A  N/A     21928    C+G   ...cw5n1h2txyewy\\LockApp.exe    N/A      |\n",
      "|    0   N/A  N/A     22476    C+G   ...ekyb3d8bbwe\\YourPhone.exe    N/A      |\n",
      "|    0   N/A  N/A     22756    C+G   Insufficient Permissions        N/A      |\n",
      "|    0   N/A  N/A     24964    C+G   C:\\Windows\\explorer.exe         N/A      |\n",
      "+-----------------------------------------------------------------------------+\n"
     ]
    }
   ],
   "source": [
    "!nvidia-smi"
   ]
  },
  {
   "cell_type": "code",
   "execution_count": 6,
   "metadata": {},
   "outputs": [],
   "source": [
    "# importing libraries\n",
    "\n",
    "import warnings\n",
    "warnings.filterwarnings('ignore')\n",
    "\n",
    "import numpy as np # linear algebra\n",
    "import pandas as pd # data processing, CSV file I/O (e.g. pd.read_csv)\n",
    "import os, time, tqdm\n",
    "import matplotlib.pyplot as plt\n",
    "import seaborn as sns\n",
    "from sklearn.metrics import *\n",
    "import tensorflow as tf \n",
    "from functools import partial\n",
    "# import keras\n",
    "from tensorflow.keras import layers\n",
    "import albumentations as A\n",
    "import tensorflow_hub as hub\n",
    "from tensorflow.keras.layers import Input, Dense, Flatten, Dropout\n",
    "from tensorflow.keras.models import Model\n",
    "from tensorflow.keras.applications.resnet50 import ResNet50\n",
    "from tensorflow.keras.callbacks import CSVLogger\n",
    "from tensorflow.keras.optimizers import Adam\n",
    "from tensorflow.keras.losses import BinaryCrossentropy\n",
    "from tensorflow.keras.metrics import Precision, Recall\n",
    "from sklearn.metrics import classification_report, f1_score\n",
    "from sklearn.model_selection import KFold"
   ]
  },
  {
   "cell_type": "code",
   "execution_count": 9,
   "metadata": {},
   "outputs": [],
   "source": [
    "image_dir = 'BreaKHis_v1/'\n",
    "data_path = 'Folds.csv'"
   ]
  },
  {
   "cell_type": "code",
   "execution_count": 7,
   "metadata": {},
   "outputs": [
    {
     "name": "stdout",
     "output_type": "stream",
     "text": [
      "['malignant', 'benign']\n"
     ]
    }
   ],
   "source": [
    "# experimental API for making data pipelines\n",
    "tf.data.experimental.AUTOTUNE\n",
    "\n",
    "# defining the class names\n",
    "class_names = ['malignant', 'benign']\n",
    "print(class_names)"
   ]
  },
  {
   "cell_type": "code",
   "execution_count": 10,
   "metadata": {},
   "outputs": [
    {
     "data": {
      "text/html": [
       "<div>\n",
       "<style scoped>\n",
       "    .dataframe tbody tr th:only-of-type {\n",
       "        vertical-align: middle;\n",
       "    }\n",
       "\n",
       "    .dataframe tbody tr th {\n",
       "        vertical-align: top;\n",
       "    }\n",
       "\n",
       "    .dataframe thead th {\n",
       "        text-align: right;\n",
       "    }\n",
       "</style>\n",
       "<table border=\"1\" class=\"dataframe\">\n",
       "  <thead>\n",
       "    <tr style=\"text-align: right;\">\n",
       "      <th></th>\n",
       "      <th>fold</th>\n",
       "      <th>mag</th>\n",
       "      <th>grp</th>\n",
       "      <th>filename</th>\n",
       "    </tr>\n",
       "  </thead>\n",
       "  <tbody>\n",
       "    <tr>\n",
       "      <th>0</th>\n",
       "      <td>1</td>\n",
       "      <td>100</td>\n",
       "      <td>train</td>\n",
       "      <td>BreaKHis_v1/histology_slides/breast/benign/SOB...</td>\n",
       "    </tr>\n",
       "    <tr>\n",
       "      <th>1</th>\n",
       "      <td>1</td>\n",
       "      <td>100</td>\n",
       "      <td>train</td>\n",
       "      <td>BreaKHis_v1/histology_slides/breast/benign/SOB...</td>\n",
       "    </tr>\n",
       "    <tr>\n",
       "      <th>2</th>\n",
       "      <td>1</td>\n",
       "      <td>100</td>\n",
       "      <td>train</td>\n",
       "      <td>BreaKHis_v1/histology_slides/breast/benign/SOB...</td>\n",
       "    </tr>\n",
       "    <tr>\n",
       "      <th>3</th>\n",
       "      <td>1</td>\n",
       "      <td>100</td>\n",
       "      <td>train</td>\n",
       "      <td>BreaKHis_v1/histology_slides/breast/benign/SOB...</td>\n",
       "    </tr>\n",
       "    <tr>\n",
       "      <th>4</th>\n",
       "      <td>1</td>\n",
       "      <td>100</td>\n",
       "      <td>train</td>\n",
       "      <td>BreaKHis_v1/histology_slides/breast/benign/SOB...</td>\n",
       "    </tr>\n",
       "  </tbody>\n",
       "</table>\n",
       "</div>"
      ],
      "text/plain": [
       "   fold  mag    grp                                           filename\n",
       "0     1  100  train  BreaKHis_v1/histology_slides/breast/benign/SOB...\n",
       "1     1  100  train  BreaKHis_v1/histology_slides/breast/benign/SOB...\n",
       "2     1  100  train  BreaKHis_v1/histology_slides/breast/benign/SOB...\n",
       "3     1  100  train  BreaKHis_v1/histology_slides/breast/benign/SOB...\n",
       "4     1  100  train  BreaKHis_v1/histology_slides/breast/benign/SOB..."
      ]
     },
     "execution_count": 10,
     "metadata": {},
     "output_type": "execute_result"
    }
   ],
   "source": [
    "# loading the data\n",
    "data = pd.read_csv(data_path)\n",
    "data.head(5)"
   ]
  },
  {
   "cell_type": "code",
   "execution_count": 12,
   "metadata": {},
   "outputs": [
    {
     "data": {
      "text/plain": [
       "158180"
      ]
     },
     "execution_count": 12,
     "metadata": {},
     "output_type": "execute_result"
    }
   ],
   "source": [
    "data.size"
   ]
  },
  {
   "cell_type": "code",
   "execution_count": 13,
   "metadata": {},
   "outputs": [],
   "source": [
    "# renaming and structuring the columns for better data understanding\n",
    "data = data.rename(columns={'filename': 'path'})\n",
    "data['label'] = data.path.apply(lambda x: x.split('/')[3])\n",
    "data['label_int'] = data.label.apply(lambda x: class_names.index(x))\n",
    "data['filename'] = data.path.apply(lambda x: x.split('/')[-1])"
   ]
  },
  {
   "cell_type": "code",
   "execution_count": 15,
   "metadata": {},
   "outputs": [
    {
     "data": {
      "text/html": [
       "<div>\n",
       "<style scoped>\n",
       "    .dataframe tbody tr th:only-of-type {\n",
       "        vertical-align: middle;\n",
       "    }\n",
       "\n",
       "    .dataframe tbody tr th {\n",
       "        vertical-align: top;\n",
       "    }\n",
       "\n",
       "    .dataframe thead th {\n",
       "        text-align: right;\n",
       "    }\n",
       "</style>\n",
       "<table border=\"1\" class=\"dataframe\">\n",
       "  <thead>\n",
       "    <tr style=\"text-align: right;\">\n",
       "      <th></th>\n",
       "      <th>fold</th>\n",
       "      <th>mag</th>\n",
       "      <th>grp</th>\n",
       "      <th>path</th>\n",
       "      <th>label</th>\n",
       "      <th>label_int</th>\n",
       "      <th>filename</th>\n",
       "    </tr>\n",
       "  </thead>\n",
       "  <tbody>\n",
       "    <tr>\n",
       "      <th>0</th>\n",
       "      <td>1</td>\n",
       "      <td>100</td>\n",
       "      <td>train</td>\n",
       "      <td>BreaKHis_v1/histology_slides/breast/benign/SOB...</td>\n",
       "      <td>benign</td>\n",
       "      <td>1</td>\n",
       "      <td>SOB_B_A-14-22549AB-100-001.png</td>\n",
       "    </tr>\n",
       "    <tr>\n",
       "      <th>1</th>\n",
       "      <td>1</td>\n",
       "      <td>100</td>\n",
       "      <td>train</td>\n",
       "      <td>BreaKHis_v1/histology_slides/breast/benign/SOB...</td>\n",
       "      <td>benign</td>\n",
       "      <td>1</td>\n",
       "      <td>SOB_B_A-14-22549AB-100-002.png</td>\n",
       "    </tr>\n",
       "    <tr>\n",
       "      <th>2</th>\n",
       "      <td>1</td>\n",
       "      <td>100</td>\n",
       "      <td>train</td>\n",
       "      <td>BreaKHis_v1/histology_slides/breast/benign/SOB...</td>\n",
       "      <td>benign</td>\n",
       "      <td>1</td>\n",
       "      <td>SOB_B_A-14-22549AB-100-003.png</td>\n",
       "    </tr>\n",
       "    <tr>\n",
       "      <th>3</th>\n",
       "      <td>1</td>\n",
       "      <td>100</td>\n",
       "      <td>train</td>\n",
       "      <td>BreaKHis_v1/histology_slides/breast/benign/SOB...</td>\n",
       "      <td>benign</td>\n",
       "      <td>1</td>\n",
       "      <td>SOB_B_A-14-22549AB-100-004.png</td>\n",
       "    </tr>\n",
       "    <tr>\n",
       "      <th>4</th>\n",
       "      <td>1</td>\n",
       "      <td>100</td>\n",
       "      <td>train</td>\n",
       "      <td>BreaKHis_v1/histology_slides/breast/benign/SOB...</td>\n",
       "      <td>benign</td>\n",
       "      <td>1</td>\n",
       "      <td>SOB_B_A-14-22549AB-100-005.png</td>\n",
       "    </tr>\n",
       "  </tbody>\n",
       "</table>\n",
       "</div>"
      ],
      "text/plain": [
       "   fold  mag    grp                                               path  \\\n",
       "0     1  100  train  BreaKHis_v1/histology_slides/breast/benign/SOB...   \n",
       "1     1  100  train  BreaKHis_v1/histology_slides/breast/benign/SOB...   \n",
       "2     1  100  train  BreaKHis_v1/histology_slides/breast/benign/SOB...   \n",
       "3     1  100  train  BreaKHis_v1/histology_slides/breast/benign/SOB...   \n",
       "4     1  100  train  BreaKHis_v1/histology_slides/breast/benign/SOB...   \n",
       "\n",
       "    label  label_int                        filename  \n",
       "0  benign          1  SOB_B_A-14-22549AB-100-001.png  \n",
       "1  benign          1  SOB_B_A-14-22549AB-100-002.png  \n",
       "2  benign          1  SOB_B_A-14-22549AB-100-003.png  \n",
       "3  benign          1  SOB_B_A-14-22549AB-100-004.png  \n",
       "4  benign          1  SOB_B_A-14-22549AB-100-005.png  "
      ]
     },
     "execution_count": 15,
     "metadata": {},
     "output_type": "execute_result"
    }
   ],
   "source": [
    "data.head()"
   ]
  },
  {
   "cell_type": "code",
   "execution_count": 16,
   "metadata": {},
   "outputs": [
    {
     "data": {
      "text/plain": [
       "<seaborn.axisgrid.FacetGrid at 0x26342164a00>"
      ]
     },
     "execution_count": 16,
     "metadata": {},
     "output_type": "execute_result"
    },
    {
     "data": {
      "image/png": "[encoded data removed]",
      "text/plain": [
       "<Figure size 360x360 with 1 Axes>"
      ]
     },
     "metadata": {},
     "output_type": "display_data"
    }
   ],
   "source": [
    "# making a plot to see data distribution\n",
    "# sns.figure()\n",
    "sns.set_theme()\n",
    "sns.displot(x='label', data=data)"
   ]
  },
  {
   "cell_type": "code",
   "execution_count": null,
   "metadata": {},
   "outputs": [],
   "source": []
  }
 ],
 "metadata": {
  "kernelspec": {
   "display_name": "Python 3",
   "language": "python",
   "name": "python3"
  },
  "language_info": {
   "codemirror_mode": {
    "name": "ipython",
    "version": 3
   },
   "file_extension": ".py",
   "mimetype": "text/x-python",
   "name": "python",
   "nbconvert_exporter": "python",
   "pygments_lexer": "ipython3",
   "version": "3.8.6"
  }
 },
 "nbformat": 4,
 "nbformat_minor": 4
}
